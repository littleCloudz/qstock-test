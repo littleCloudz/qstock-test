{
 "cells": [
  {
   "cell_type": "code",
   "execution_count": 1,
   "id": "ecdc516e-d3b2-418d-b7b9-cdadd767508d",
   "metadata": {
    "ExecuteTime": {
     "end_time": "2024-07-23T14:49:09.258515Z",
     "start_time": "2024-07-23T14:49:07.962160Z"
    }
   },
   "outputs": [],
   "source": [
    "import qstock as qs"
   ]
  },
  {
   "cell_type": "code",
   "execution_count": 2,
   "id": "3577f0ce-4eb6-4373-8fa4-3ff0b31d6606",
   "metadata": {
    "ExecuteTime": {
     "end_time": "2024-07-23T14:49:09.520894Z",
     "start_time": "2024-07-23T14:49:09.258804Z"
    }
   },
   "outputs": [
    {
     "data": {
      "text/plain": "       代码    名称     涨幅     最新     最高     最低     今开    换手率     量比    市盈率  \\\n0  300078  思创医惠  20.18   2.68   2.68   2.22   2.23  10.12  12.61  -8.96   \n1  300168  万达信息  20.04   5.63   5.63   4.62   4.70   4.39   6.06  -9.59   \n2  301021  英诺激光  20.02  21.64  21.64  17.32  17.77  16.76   2.75 -57.06   \n3  301370  国科恒泰  20.00  11.40  11.40   9.31   9.50   5.08   3.67  48.58   \n4  301226  祥明智能  20.00  21.54  21.54  18.42  18.42  28.07   2.37  92.34   \n\n        成交量           成交额     昨收           总市值          流通市值  \\\n0  893894.0  2.284311e+08   2.23  2.427763e+09  2.366224e+09   \n1  597251.0  3.129375e+08   4.69  8.117205e+09  7.666164e+09   \n2  253859.0  5.088922e+08  18.03  3.278708e+09  3.278295e+09   \n3  164336.0  1.725852e+08   9.50  5.364840e+09  3.690734e+09   \n4  137761.0  2.934869e+08  17.95  2.343552e+09  1.057180e+09   \n\n                    时间  \n0  2024-07-23 15:34:42  \n1  2024-07-23 15:35:00  \n2  2024-07-23 15:34:51  \n3  2024-07-23 15:34:39  \n4  2024-07-23 15:34:18  ",
      "text/html": "<div>\n<style scoped>\n    .dataframe tbody tr th:only-of-type {\n        vertical-align: middle;\n    }\n\n    .dataframe tbody tr th {\n        vertical-align: top;\n    }\n\n    .dataframe thead th {\n        text-align: right;\n    }\n</style>\n<table border=\"1\" class=\"dataframe\">\n  <thead>\n    <tr style=\"text-align: right;\">\n      <th></th>\n      <th>代码</th>\n      <th>名称</th>\n      <th>涨幅</th>\n      <th>最新</th>\n      <th>最高</th>\n      <th>最低</th>\n      <th>今开</th>\n      <th>换手率</th>\n      <th>量比</th>\n      <th>市盈率</th>\n      <th>成交量</th>\n      <th>成交额</th>\n      <th>昨收</th>\n      <th>总市值</th>\n      <th>流通市值</th>\n      <th>时间</th>\n    </tr>\n  </thead>\n  <tbody>\n    <tr>\n      <th>0</th>\n      <td>300078</td>\n      <td>思创医惠</td>\n      <td>20.18</td>\n      <td>2.68</td>\n      <td>2.68</td>\n      <td>2.22</td>\n      <td>2.23</td>\n      <td>10.12</td>\n      <td>12.61</td>\n      <td>-8.96</td>\n      <td>893894.0</td>\n      <td>2.284311e+08</td>\n      <td>2.23</td>\n      <td>2.427763e+09</td>\n      <td>2.366224e+09</td>\n      <td>2024-07-23 15:34:42</td>\n    </tr>\n    <tr>\n      <th>1</th>\n      <td>300168</td>\n      <td>万达信息</td>\n      <td>20.04</td>\n      <td>5.63</td>\n      <td>5.63</td>\n      <td>4.62</td>\n      <td>4.70</td>\n      <td>4.39</td>\n      <td>6.06</td>\n      <td>-9.59</td>\n      <td>597251.0</td>\n      <td>3.129375e+08</td>\n      <td>4.69</td>\n      <td>8.117205e+09</td>\n      <td>7.666164e+09</td>\n      <td>2024-07-23 15:35:00</td>\n    </tr>\n    <tr>\n      <th>2</th>\n      <td>301021</td>\n      <td>英诺激光</td>\n      <td>20.02</td>\n      <td>21.64</td>\n      <td>21.64</td>\n      <td>17.32</td>\n      <td>17.77</td>\n      <td>16.76</td>\n      <td>2.75</td>\n      <td>-57.06</td>\n      <td>253859.0</td>\n      <td>5.088922e+08</td>\n      <td>18.03</td>\n      <td>3.278708e+09</td>\n      <td>3.278295e+09</td>\n      <td>2024-07-23 15:34:51</td>\n    </tr>\n    <tr>\n      <th>3</th>\n      <td>301370</td>\n      <td>国科恒泰</td>\n      <td>20.00</td>\n      <td>11.40</td>\n      <td>11.40</td>\n      <td>9.31</td>\n      <td>9.50</td>\n      <td>5.08</td>\n      <td>3.67</td>\n      <td>48.58</td>\n      <td>164336.0</td>\n      <td>1.725852e+08</td>\n      <td>9.50</td>\n      <td>5.364840e+09</td>\n      <td>3.690734e+09</td>\n      <td>2024-07-23 15:34:39</td>\n    </tr>\n    <tr>\n      <th>4</th>\n      <td>301226</td>\n      <td>祥明智能</td>\n      <td>20.00</td>\n      <td>21.54</td>\n      <td>21.54</td>\n      <td>18.42</td>\n      <td>18.42</td>\n      <td>28.07</td>\n      <td>2.37</td>\n      <td>92.34</td>\n      <td>137761.0</td>\n      <td>2.934869e+08</td>\n      <td>17.95</td>\n      <td>2.343552e+09</td>\n      <td>1.057180e+09</td>\n      <td>2024-07-23 15:34:18</td>\n    </tr>\n  </tbody>\n</table>\n</div>"
     },
     "execution_count": 2,
     "metadata": {},
     "output_type": "execute_result"
    }
   ],
   "source": [
    "#获取沪深A股最新行情指标\n",
    "df=qs.realtime_data()\n",
    "#查看前几行\n",
    "df.head()"
   ]
  }
 ],
 "metadata": {
  "kernelspec": {
   "display_name": "Python 3 (ipykernel)",
   "language": "python",
   "name": "python3"
  },
  "language_info": {
   "codemirror_mode": {
    "name": "ipython",
    "version": 3
   },
   "file_extension": ".py",
   "mimetype": "text/x-python",
   "name": "python",
   "nbconvert_exporter": "python",
   "pygments_lexer": "ipython3",
   "version": "3.11.7"
  }
 },
 "nbformat": 4,
 "nbformat_minor": 5
}
